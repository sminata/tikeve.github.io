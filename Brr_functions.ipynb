{
 "cells": [
  {
   "cell_type": "code",
   "execution_count": 1,
   "metadata": {},
   "outputs": [],
   "source": [
    "#NaNs to zeros\n",
    "def toint(a):\n",
    "    if np.isnan(a):\n",
    "        return 0\n",
    "    else: return int(a)\n",
    "\n",
    "#If no matches played not to devide by zero\n",
    "def noZ(a):\n",
    "    b = a.copy()\n",
    "    for i in range(len(b)):\n",
    "        if b[i] == 0:\n",
    "            b[i]=1\n",
    "    return b\n",
    "\n",
    "#removes lists from table adding new column instead\n",
    "def no_lists(t):\n",
    "    table = t.copy()\n",
    "    for i in table.index:\n",
    "        for j in table.columns:\n",
    "            if type(table.at[i,j])==list:\n",
    "                if len(table.at[i,j])==0:\n",
    "                    table.at[i,j]=''\n",
    "                elif len(table.at[i,j])==1:\n",
    "                    table.at[i,j]=table.at[i,j][0]\n",
    "                elif  len(table.at[i,j])==2:\n",
    "                    if j+'*' not in table.columns:\n",
    "                        table.insert(list(table.columns).index(j),j+'*',''*len(table))\n",
    "                    table.at[i,j+'*'] = table.at[i,j][1]\n",
    "                    table.at[i,j]=table.at[i,j][0]\n",
    "                else:#len(table.at[i,j])==3\n",
    "                    if j+'*' not in table.columns:\n",
    "                        table.insert(list(table.columns).index(j),j+'*',''*len(table))\n",
    "                    if j+'**' not in table.columns:\n",
    "                        table.insert(list(table.columns).index(j)+1,j+'**',''*len(table))\n",
    "                    table.at[i,j+'**'] = table.at[i,j][2]\n",
    "                    table.at[i,j+'*'] = table.at[i,j][1]\n",
    "                    table.at[i,j]=table.at[i,j][0]\n",
    "    return table"
   ]
  }
 ],
 "metadata": {
  "kernelspec": {
   "display_name": "Python 3",
   "language": "python",
   "name": "python3"
  },
  "language_info": {
   "codemirror_mode": {
    "name": "ipython",
    "version": 3
   },
   "file_extension": ".py",
   "mimetype": "text/x-python",
   "name": "python",
   "nbconvert_exporter": "python",
   "pygments_lexer": "ipython3",
   "version": "3.7.1"
  }
 },
 "nbformat": 4,
 "nbformat_minor": 2
}
