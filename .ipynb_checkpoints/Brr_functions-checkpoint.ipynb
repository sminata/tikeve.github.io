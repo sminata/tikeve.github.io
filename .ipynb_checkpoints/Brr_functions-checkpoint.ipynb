{
 "cells": [
  {
   "cell_type": "code",
   "execution_count": null,
   "metadata": {},
   "outputs": [],
   "source": [
    "#NaNs to zeros\n",
    "def toint(a):\n",
    "    if np.isnan(a):\n",
    "        return 0\n",
    "    else: return int(a)\n",
    "\n",
    "#If no matches played not to devide by zero\n",
    "def noZ(a):\n",
    "    b = a.copy()\n",
    "    for i in range(len(b)):\n",
    "        if b[i] == 0:\n",
    "            b[i]=1\n",
    "    return b"
   ]
  }
 ],
 "metadata": {
  "kernelspec": {
   "display_name": "Python 3",
   "language": "python",
   "name": "python3"
  },
  "language_info": {
   "codemirror_mode": {
    "name": "ipython",
    "version": 3
   },
   "file_extension": ".py",
   "mimetype": "text/x-python",
   "name": "python",
   "nbconvert_exporter": "python",
   "pygments_lexer": "ipython3",
   "version": "3.7.3"
  }
 },
 "nbformat": 4,
 "nbformat_minor": 2
}
