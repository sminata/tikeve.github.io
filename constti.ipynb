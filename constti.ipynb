{
 "cells": [
  {
   "cell_type": "code",
   "execution_count": 1,
   "metadata": {},
   "outputs": [
    {
     "name": "stdout",
     "output_type": "stream",
     "text": [
      "Hello\n",
      "<!doctype html><html itemscope=\"\" itemtype=\"http://schema.org/WebPage\" lang=\"ru\"><head><meta content=\"&#1055;&#1086;&#1080;&#1089;&#1082; &#1080;&#1085;&#1092;&#1086;&#1088;&#1084;&#1072;&#1094;&#1080;&#1080; &#1074; &#1080;&#1085;&#1090;&#1077;&#1088;&#1085;&#1077;&#1090;&#1077;: &#1074;&#1077;&#1073; &#1089;&#1090;&#1088;&#1072;&#1085;&#1080;&#1094;&#1099;, &#1082;&#1072;&#1088;&#1090;&#1080;&#1085;&#1082;&#1080;, &#1074;&#1080;&#1076;&#1077;&#1086; &#1080; &#1084;&#1085;&#1086;&#1075;&#1086;&#1077; &#1076;&#1088;&#1091;&#1075;&#1086;&#1077;.\" name=\"description\"><meta content=\"noodp\" name=\"robots\"><meta content=\"text/html; charset=UTF-8\" http-equiv=\"Content-Type\"><meta content=\"/logos/doodles/2020/stay-and-play-at-home-with-popular-past-google-doodles-pac-man-2010-6753651837108775.2-law.gif\" itemprop=\"image\"><meta content=\"&#1054;&#1089;&#1090;&#1072;&#1074;&#1072;&#1081;&#1090;&#1077;&#1089;&#1100; &#1076;&#1086;&#1084;&#1072; &#1080; &#1080;&#1075;&#1088;&#1072;&#1081;&#1090;&#1077; &#1089; &#1087;&#1086;&#1087;&#1091;&#1083;&#1103;&#1088;&#1085;&#1099;&#1084;&#1080; &#1076;&#1091;&#1076;&#1083;&#1072;&#1084;&#1080; &#1087;&#1088;&#1086;&#1096;&#1083;&#1099;&#1093; &#1083;&#1077;&#1090;\" property=\"twitter:title\"><meta content=\"&#1054;&#1089;&#1090;&#1072;&#1074;&#1072;&#1081;&#1090;&#1077;&#1089;&#1100; &#1076;&#1086;&#1084;&#1072; &#1080; &#1080;&#1075;&#1088;&#1072;&#1081;&#1090;&#1077; &#1089; &#1087;&#1086;&#1087;&#1091;&#1083;&#1103;&#1088;&#1085;&#1099;&#1084;&#1080; &#1076;&#1091;&#1076;&#1083;&#1072;&#1084;&#1080; &#1087;&#1088;&#1086;&#1096;&#1083;&#1099;&#1093; &#1083;&#1077;&#1090;\" property=\"twitter:description\"><meta content=\"&#1054;&#1089;&#1090;&#1072;&#1074;&#1072;&#1081;&#1090;&#1077;&#1089;&#1100; &#1076;&#1086;&#1084;&#1072; &#1080; &#1080;&#1075;&#1088;&#1072;&#1081;&#1090;&#1077; &#1089; &#1087;&#1086;&#1087;&#1091;&#1083;&#1103;&#1088;&#1085;&#1099;&#1084;&#1080; &#1076;&#1091;&#1076;&#1083;&#1072;&#1084;&#1080; &#1087;&#1088;&#1086;&#1096;&#1083;&#1099;&#1093; &#1083;&#1077;&#1090;\" property=\"og:description\"><meta content=\"summary_large_image\" property=\"twitter:card\"><meta content=\"@GoogleDoodles\" property=\"twitter:site\"><meta content=\"https://www.google.com/logos/doodles/2020/stay-and-play-at-home-with-popular-past-google-doodles-pac-man-2010-6753651837108775.2-2xa.gif\" property=\"twitter:image\"><meta content=\"https://www.google.com/logos/doodles/2020/stay-and-play-at-home-with-popular-past-google-doodles-pac-man-2010-6753651837108775.2-2xa.gif\" property=\"og:image\"><meta content=\"1100\" property=\"og:image:width\"><meta content=\"440\" property=\"og:image:height\"><meta content=\"https://www.google.com/logos/doodles/2020/stay-and-play-at-home-with-popular-past-google-doodles-pac-man-2010-6753651837108775.2-2xa.gif\" property=\"og:url\"><meta content=\"video.other\" property=\"og:type\"><title>Google</title><script nonce=\"g2qJkTqbNMalW27A/xFVZQ==\">(function(){window.google={kEI:'FEC1XuDSBKSymwW-irGgCA',kEXPI:'0,202123,3,4,1151617,5662,730,224,5105,206,3204,10,1051,175,364,925,193,381,238,338,241,383,246,5,960,394,196,177,181,114,55,90,224,657,1217,406,561,4,12,62,63,417005,706742,1197749,400,78,329040,1294,12383,4855,32691,15248,867,28684,9188,8384,4858,1362,9291,3025,4742,6,3113,7914,1808,4998,7931,5297,2054,920,873,1217,2975,6430,7432,3874,3222,4519,1394,1381,520,399,2277,10,85,1129,1580,1593,423,744,112,2212,530,149,1103,327,513,124,393,1142,278,102,4258,312,1137,2,2669,1839,184,546,1187,43,521,1947,244,1965,4,109,328,1284,16,2927,2247,473,1339,748,1039,3228,772,2072,7,5599,469,8080,2661,641,602,805,633,1,409,2458,1226,1462,3934,1275,108,591,2816,908,2,941,552,2062,2132,260,5,9,5410,225,996,828,842,1086,251,1,1097,3,12,334,230,970,865,4,368,1640,1906,707,148,189,1667,1645,2490,27,2224,1992,579,27,1344,47,1101,643,4,1528,17,264,2,351,2,1,2,3,1,299,352,1010,460,566,210,271,562,36,276,111,284,2,8,12,29,750,672,6,394,243,402,320,4,1454,503,41,297,117,462,338,126,4,656,169,234,22,126,37,94,206,1505,8,165,43,834,362,103,213,500,640,694,1489,45,14,98,359,228,169,359,69,612,250,14,6,2,141,604,25,100,3,216,426,213,1226,1221,52,5816959,13,3297,1802584,4194154,2801868,549,333,444,1,2,80,1,900,896,1,8,1,2,2551,1,748,141,795,10,553,1,4265,1,1,1,1,137,1,1193,1401,3,517,11,1,2,2,3,5,3,1,3,1,4,6,3,1,35,9,6,1,2,1,1,2,2,47,24,7,8,1,1,14,1,4,14,3,3,13,3,2,5,9,5,4,1,2,1,1,2,3,1,1,2,1,16,1,3,3,9,1,1,6,23962155,2641849',kBL:'HOzm'};google.sn='webhp';google.kHL='ru';})();(function(){google.lc=[];google.li=0;google.getEI=function(a){for(var c;a&&(!a.getAttribute||!(c=a.getAttribute(\"eid\")));)a=a.parentNode;return c||google.kEI};google.getLEI=function(a){for(var c=null;a&&(!a.getAttribute||!(c=a.getAttribute(\"leid\")));)a=a.parentNode;return c};google.ml=function(){return null};google.time=function(){return Date.now()};google.log=function(a,c,b,d,g){if(b=google.logUrl(a,c,b,d,g)){a=new Image;var e=google.lc,f=google.li;e[f]=a;a.onerror=a.onload=a.onabort=function(){delete e[f]};google.vel&&google.vel.lu&&google.vel.lu(b);a.src=b;google.li=f+1}};google.logUrl=function(a,c,b,d,g){var e=\"\",f=google.ls||\"\";b||-1!=c.search(\"&ei=\")||(e=\"&ei=\"+google.getEI(d),-1==c.search(\"&lei=\")&&(d=google.getLEI(d))&&(e+=\"&lei=\"+d));d=\"\";!b&&google.cshid&&-1==c.search(\"&cshid=\")&&\"slh\"!=a&&(d=\"&cshid=\"+google.cshid);b=b||\"/\"+(g||\"gen_204\")+\"?atyp=i&ct=\"+a+\"&cad=\"+c+e+f+\"&zx=\"+google.time()+d;/^http:/i.test(b)&&\"https:\"==window.location.protocol&&(google.ml(Error(\"a\"),!1,{src:b,glmm:1}),b=\"\");return b};}).call(this);(function(){google.y={};google.x=function(a,b){if(a)var c=a.id;else{do c=Math.random();while(google.y[c])}google.y[c]=[a,b];return!1};google.lm=[];google.plm=function(a){google.lm.push.apply(google.lm,a)};google.lq=[];google.load=function(a,b,c){google.lq.push([[a],b,c])};google.loadAll=function(a,b){google.lq.push([a,b])};}).call(this);google.f={};(function(){\n",
      "document.documentElement.addEventListener(\"submit\",function(b){var a;if(a=b.target){var c=a.getAttribute(\"data-submitfalse\");a=\"1\"==c||\"q\"==c&&!a.elements.q.value?!0:!1}else a=!1;a&&(b.preventDefault(),b.stopPropagation())},!0);document.documentElement.addEventListener(\"click\",function(b){var a;a:{for(a=b.target;a&&a!=document.documentElement;a=a.parentElement)if(\"A\"==a.tagName){a=\"1\"==a.getAttribute(\"data-nohref\");break a}a=!1}a&&b.preventDefault()},!0);}).call(this);\n",
      "var a=window.location,b=a.href.indexOf(\"#\");if(0<=b){var c=a.href.substring(b+1);/(^|&)q=/.test(c)&&-1==c.indexOf(\"#\")&&a.replace(\"/search?\"+c.replace(/(^|&)fp=[^&]*/g,\"\")+\"&cad=h\")};</script><style>#gbar,#guser{font-size:13px;padding-top:1px !important;}#gbar{height:22px}#guser{padding-bottom:7px !important;text-align:right}.gbh,.gbd{border-top:1px solid #c9d7f1;font-size:1px}.gbh{height:0;position:absolute;top:24px;width:100%}@media all{.gb1{height:22px;margin-right:.5em;vertical-align:top}#gbar{float:left}}a.gb1,a.gb4{text-decoration:underline !important}a.gb1,a.gb4{color:#00c !important}.gbi .gb4{color:#dd8e27 !important}.gbf .gb4{color:#900 !important}\n",
      "</style><style>body,td,a,p,.h{font-family:arial,sans-serif}body{margin:0;overflow-y:scroll}#gog{padding:3px 8px 0}td{line-height:.8em}.gac_m td{line-height:17px}form{margin-bottom:20px}.h{color:#36c}.q{color:#00c}.ts td{padding:0}.ts{border-collapse:collapse}em{font-weight:bold;font-style:normal}.lst{height:25px;width:496px}.gsfi,.lst{font:18px arial,sans-serif}.gsfs{font:17px arial,sans-serif}.ds{display:inline-box;display:inline-block;margin:3px 0 4px;margin-left:4px}input{font-family:inherit}body{background:#fff;color:#000}a{color:#11c;text-decoration:none}a:hover,a:active{text-decoration:underline}.fl a{color:#36c}a:visited{color:#551a8b}.sblc{padding-top:5px}.sblc a{display:block;margin:2px 0;margin-left:13px;font-size:11px}.lsbb{background:#eee;border:solid 1px;border-color:#ccc #999 #999 #ccc;height:30px}.lsbb{display:block}.ftl,#fll a{display:inline-block;margin:0 12px}.lsb{background:url(/images/nav_logo229.png) 0 -261px repeat-x;border:none;color:#000;cursor:pointer;height:30px;margin:0;outline:0;font:15px arial,sans-serif;vertical-align:top}.lsb:active{background:#ccc}.lst:focus{outline:none}.tiah{width:458px}</style><script nonce=\"g2qJkTqbNMalW27A/xFVZQ==\"></script></head><body bgcolor=\"#fff\"><script nonce=\"g2qJkTqbNMalW27A/xFVZQ==\">(function(){var src='/images/nav_logo229.png';var iesg=false;document.body.onload = function(){window.n && window.n();if (document.images){new Image().src=src;}\n",
      "if (!iesg){document.f&&document.f.q.focus();document.gbqf&&document.gbqf.q.focus();}\n",
      "}\n",
      "})();</script><div id=\"mngb\"> <div id=gbar><nobr><b class=gb1>&#1055;&#1086;&#1080;&#1089;&#1082;</b> <a class=gb1 href=\"http://www.google.ru/imghp?hl=ru&tab=wi\">&#1050;&#1072;&#1088;&#1090;&#1080;&#1085;&#1082;&#1080;</a> <a class=gb1 href=\"http://maps.google.ru/maps?hl=ru&tab=wl\">&#1050;&#1072;&#1088;&#1090;&#1099;</a> <a class=gb1 href=\"https://play.google.com/?hl=ru&tab=w8\">Play</a> <a class=gb1 href=\"http://www.youtube.com/?gl=RU&tab=w1\">YouTube</a> <a class=gb1 href=\"http://news.google.ru/nwshp?hl=ru&tab=wn\">&#1053;&#1086;&#1074;&#1086;&#1089;&#1090;&#1080;</a> <a class=gb1 href=\"https://mail.google.com/mail/?tab=wm\">&#1055;&#1086;&#1095;&#1090;&#1072;</a> <a class=gb1 href=\"https://drive.google.com/?tab=wo\">&#1044;&#1080;&#1089;&#1082;</a> <a class=gb1 style=\"text-decoration:none\" href=\"https://www.google.ru/intl/ru/about/products?tab=wh\"><u>&#1045;&#1097;&#1105;</u> &raquo;</a></nobr></div><div id=guser width=100%><nobr><span id=gbn class=gbi></span><span id=gbf class=gbf></span><span id=gbe></span><a href=\"http://www.google.ru/history/optout?hl=ru\" class=gb4>&#1048;&#1089;&#1090;&#1086;&#1088;&#1080;&#1103; &#1074;&#1077;&#1073;-&#1087;&#1086;&#1080;&#1089;&#1082;&#1072;</a> | <a  href=\"/preferences?hl=ru\" class=gb4>&#1053;&#1072;&#1089;&#1090;&#1088;&#1086;&#1081;&#1082;&#1080;</a> | <a target=_top id=gb_70 href=\"https://accounts.google.com/ServiceLogin?hl=ru&passive=true&continue=http://www.google.com/\" class=gb4>&#1042;&#1086;&#1081;&#1090;&#1080;</a></nobr></div><div class=gbh style=left:0></div><div class=gbh style=right:0></div> </div><center><br clear=\"all\" id=\"lgpd\"><div id=\"lga\"><a href=\"/search?ie=UTF-8&amp;q=%D0%9F%D0%BE%D0%BF%D1%83%D0%BB%D1%8F%D1%80%D0%BD%D1%8B%D0%B5+%D0%B8%D0%BD%D1%82%D0%B5%D1%80%D0%B0%D0%BA%D1%82%D0%B8%D0%B2%D0%BD%D1%8B%D0%B5+%D0%B4%D1%83%D0%B4%D0%BB%D1%8B+Google&amp;oi=ddle&amp;ct=153499275&amp;hl=ru&amp;sa=X&amp;ved=0ahUKEwjgrInIkqTpAhUk2aYKHT5FDIQQPQgD\"><img alt=\"&#1054;&#1089;&#1090;&#1072;&#1074;&#1072;&#1081;&#1090;&#1077;&#1089;&#1100; &#1076;&#1086;&#1084;&#1072; &#1080; &#1080;&#1075;&#1088;&#1072;&#1081;&#1090;&#1077; &#1089; &#1087;&#1086;&#1087;&#1091;&#1083;&#1103;&#1088;&#1085;&#1099;&#1084;&#1080; &#1076;&#1091;&#1076;&#1083;&#1072;&#1084;&#1080; &#1087;&#1088;&#1086;&#1096;&#1083;&#1099;&#1093; &#1083;&#1077;&#1090;\" border=\"0\" height=\"220\" src=\"/logos/doodles/2020/stay-and-play-at-home-with-popular-past-google-doodles-pac-man-2010-6753651837108775.2-law.gif\" title=\"&#1054;&#1089;&#1090;&#1072;&#1074;&#1072;&#1081;&#1090;&#1077;&#1089;&#1100; &#1076;&#1086;&#1084;&#1072; &#1080; &#1080;&#1075;&#1088;&#1072;&#1081;&#1090;&#1077; &#1089; &#1087;&#1086;&#1087;&#1091;&#1083;&#1103;&#1088;&#1085;&#1099;&#1084;&#1080; &#1076;&#1091;&#1076;&#1083;&#1072;&#1084;&#1080; &#1087;&#1088;&#1086;&#1096;&#1083;&#1099;&#1093; &#1083;&#1077;&#1090;\" width=\"550\" id=\"hplogo\"><br></a><br></div><form action=\"/search\" name=\"f\"><table cellpadding=\"0\" cellspacing=\"0\"><tr valign=\"top\"><td width=\"25%\">&nbsp;</td><td align=\"center\" nowrap=\"\"><input name=\"ie\" value=\"ISO-8859-1\" type=\"hidden\"><input value=\"ru\" name=\"hl\" type=\"hidden\"><input name=\"source\" type=\"hidden\" value=\"hp\"><input name=\"biw\" type=\"hidden\"><input name=\"bih\" type=\"hidden\"><div class=\"ds\" style=\"height:32px;margin:4px 0\"><div style=\"position:relative;zoom:1\"><input class=\"lst tiah\" style=\"margin:0;padding:5px 8px 0 6px;vertical-align:top;color:#000;padding-right:38px\" autocomplete=\"off\" value=\"\" title=\"&#1055;&#1086;&#1080;&#1089;&#1082; &#1074; Google\" maxlength=\"2048\" name=\"q\" size=\"57\"><img src=\"/textinputassistant/tia.png\" style=\"position:absolute;cursor:pointer;right:5px;top:4px;z-index:300\" data-script-url=\"/textinputassistant/11/ru_tia.js\" id=\"tsuid1\" alt=\"\" height=\"23\" width=\"27\"><script nonce=\"g2qJkTqbNMalW27A/xFVZQ==\">(function(){var id='tsuid1';document.getElementById(id).onclick = function(){var s = document.createElement('script');s.src = this.getAttribute('data-script-url');(document.getElementById('xjsc')||document.body).appendChild(s);};})();</script></div></div><br style=\"line-height:0\"><span class=\"ds\"><span class=\"lsbb\"><input class=\"lsb\" value=\"&#1055;&#1086;&#1080;&#1089;&#1082; &#1074; Google\" name=\"btnG\" type=\"submit\"></span></span><span class=\"ds\"><span class=\"lsbb\"><input class=\"lsb\" id=\"tsuid2\" value=\"&#1052;&#1085;&#1077; &#1087;&#1086;&#1074;&#1077;&#1079;&#1105;&#1090;!\" name=\"btnI\" type=\"submit\"><script nonce=\"g2qJkTqbNMalW27A/xFVZQ==\">(function(){var id='tsuid2';document.getElementById(id).onclick = function(){if (this.form.q.value){this.checked = 1;if (this.form.iflsig)this.form.iflsig.disabled = false;}\n",
      "else top.location='/doodles/';};})();</script><input value=\"AINFCbYAAAAAXrVOJG9vNpqpoBmt6xO6qxS7gLQbNaPA\" name=\"iflsig\" type=\"hidden\"></span></span></td><td class=\"fl sblc\" align=\"left\" nowrap=\"\" width=\"25%\"><a href=\"/advanced_search?hl=ru&amp;authuser=0\">&#1056;&#1072;&#1089;&#1096;&#1080;&#1088;&#1077;&#1085;&#1085;&#1099;&#1081; &#1087;&#1086;&#1080;&#1089;&#1082;</a></td></tr></table><input id=\"gbv\" name=\"gbv\" type=\"hidden\" value=\"1\"><script nonce=\"g2qJkTqbNMalW27A/xFVZQ==\">(function(){var a,b=\"1\";if(document&&document.getElementById)if(\"undefined\"!=typeof XMLHttpRequest)b=\"2\";else if(\"undefined\"!=typeof ActiveXObject){var c,d,e=[\"MSXML2.XMLHTTP.6.0\",\"MSXML2.XMLHTTP.3.0\",\"MSXML2.XMLHTTP\",\"Microsoft.XMLHTTP\"];for(c=0;d=e[c++];)try{new ActiveXObject(d),b=\"2\"}catch(h){}}a=b;if(\"2\"==a&&-1==location.search.indexOf(\"&gbv=2\")){var f=google.gbvu,g=document.getElementById(\"gbv\");g&&(g.value=a);f&&window.setTimeout(function(){location.href=f},0)};}).call(this);</script></form><div id=\"gac_scont\"></div><div style=\"font-size:83%;min-height:3.5em\"><br><div id=\"prm\"><style>.szppmdbYutt__middle-slot-promo{font-size:small;margin-bottom:32px}.szppmdbYutt__middle-slot-promo a.ZIeIlb{display:inline-block;text-decoration:none}.szppmdbYutt__middle-slot-promo img{border:none;margin-right:5px;vertical-align:middle}</style><div class=\"szppmdbYutt__middle-slot-promo\" data-ved=\"0ahUKEwjgrInIkqTpAhUk2aYKHT5FDIQQnIcBCAQ\"><a class=\"NKcBbd\" href=\"https://www.google.com/url?q=https://www.youtube.com/YouTubeRussia%3Futm_source%3Dgoogle%26utm_medium%3Dhppromo%26utm_campaign%3DHelpathomeYTRU&amp;source=hpp&amp;id=19017729&amp;ct=3&amp;usg=AFQjCNEnuha5vcG3FrD2oKsuEbH9z5tbIg&amp;sa=X&amp;ved=0ahUKEwjgrInIkqTpAhUk2aYKHT5FDIQQ8IcBCAU\" rel=\"nofollow\">&#1055;&#1088;&#1086;&#1074;&#1086;&#1076;&#1080; &#1074;&#1088;&#1077;&#1084;&#1103; &#1076;&#1086;&#1084;&#1072; &#1089; &#1087;&#1086;&#1083;&#1100;&#1079;&#1086;&#1081;</a></div></div></div><span id=\"footer\"><div style=\"font-size:10pt\"><div style=\"margin:19px auto;text-align:center\" id=\"fll\"><a href=\"/intl/ru/ads/\">&#1056;&#1077;&#1082;&#1083;&#1072;&#1084;&#1085;&#1099;&#1077; &#1087;&#1088;&#1086;&#1075;&#1088;&#1072;&#1084;&#1084;&#1099;</a><a href=\"http://www.google.ru/intl/ru/services/\">&#1056;&#1077;&#1096;&#1077;&#1085;&#1080;&#1103; &#1076;&#1083;&#1103; &#1073;&#1080;&#1079;&#1085;&#1077;&#1089;&#1072;</a><a href=\"/intl/ru/about.html\">&#1042;&#1089;&#1105; &#1086; Google</a><a href=\"http://www.google.com/setprefdomain?prefdom=RU&amp;prev=http://www.google.ru/&amp;sig=K_u7HyuxovUdGsDKbyAnS7DmsRg54%3D\">Google.ru</a></div></div><p style=\"font-size:8pt;color:#767676\">&copy; 2020 - <a href=\"/intl/ru/policies/privacy/\">&#1050;&#1086;&#1085;&#1092;&#1080;&#1076;&#1077;&#1085;&#1094;&#1080;&#1072;&#1083;&#1100;&#1085;&#1086;&#1089;&#1090;&#1100;</a> - <a href=\"/intl/ru/policies/terms/\">&#1059;&#1089;&#1083;&#1086;&#1074;&#1080;&#1103;</a></p></span></center><script nonce=\"g2qJkTqbNMalW27A/xFVZQ==\">(function(){window.google.cdo={height:0,width:0};(function(){var a=window.innerWidth,b=window.innerHeight;if(!a||!b){var c=window.document,d=\"CSS1Compat\"==c.compatMode?c.documentElement:c.body;a=d.clientWidth;b=d.clientHeight}a&&b&&(a!=google.cdo.width||b!=google.cdo.height)&&google.log(\"\",\"\",\"/client_204?&atyp=i&biw=\"+a+\"&bih=\"+b+\"&ei=\"+google.kEI);}).call(this);})();(function(){var u='/xjs/_/js/k\\x3dxjs.hp.en.YQUrSNoUrb0.O/m\\x3dsb_he,d/am\\x3dAF8IbA4/d\\x3d1/rs\\x3dACT90oFMgppgNqwPLO8NE3dbGKukCdzhaQ';\n",
      "setTimeout(function(){var b=document;var a=\"SCRIPT\";\"application/xhtml+xml\"===b.contentType&&(a=a.toLowerCase());a=b.createElement(a);a.src=u;google.timers&&google.timers.load&&google.tick&&google.tick(\"load\",\"xjsls\");document.body.appendChild(a)},0);})();(function(){window.google.xjsu='/xjs/_/js/k\\x3dxjs.hp.en.YQUrSNoUrb0.O/m\\x3dsb_he,d/am\\x3dAF8IbA4/d\\x3d1/rs\\x3dACT90oFMgppgNqwPLO8NE3dbGKukCdzhaQ';})();function _DumpException(e){throw e;}\n",
      "function _F_installCss(c){}\n",
      "(function(){google.jl={em:[],emw:false,lls:'default',pdt:0,snet:true,uwp:true};})();(function(){var pmc='{\\x22d\\x22:{},\\x22sb_he\\x22:{\\x22agen\\x22:true,\\x22cgen\\x22:true,\\x22client\\x22:\\x22heirloom-hp\\x22,\\x22dh\\x22:true,\\x22dhqt\\x22:true,\\x22ds\\x22:\\x22\\x22,\\x22ffql\\x22:\\x22ru\\x22,\\x22fl\\x22:true,\\x22host\\x22:\\x22google.com\\x22,\\x22isbh\\x22:28,\\x22jsonp\\x22:true,\\x22msgs\\x22:{\\x22cibl\\x22:\\x22&#1059;&#1076;&#1072;&#1083;&#1080;&#1090;&#1100; &#1087;&#1086;&#1080;&#1089;&#1082;&#1086;&#1074;&#1099;&#1081; &#1079;&#1072;&#1087;&#1088;&#1086;&#1089;\\x22,\\x22dym\\x22:\\x22&#1042;&#1086;&#1079;&#1084;&#1086;&#1078;&#1085;&#1086;, &#1074;&#1099; &#1080;&#1084;&#1077;&#1083;&#1080; &#1074; &#1074;&#1080;&#1076;&#1091;:\\x22,\\x22lcky\\x22:\\x22&#1052;&#1085;&#1077; &#1087;&#1086;&#1074;&#1077;&#1079;&#1105;&#1090;!\\x22,\\x22lml\\x22:\\x22&#1055;&#1086;&#1076;&#1088;&#1086;&#1073;&#1085;&#1077;&#1077;...\\x22,\\x22oskt\\x22:\\x22&#1069;&#1082;&#1088;&#1072;&#1085;&#1085;&#1072;&#1103; &#1082;&#1083;&#1072;&#1074;&#1080;&#1072;&#1090;&#1091;&#1088;&#1072;\\x22,\\x22psrc\\x22:\\x22&#1069;&#1090;&#1086;&#1090; &#1079;&#1072;&#1087;&#1088;&#1086;&#1089; &#1073;&#1099;&#1083; &#1091;&#1076;&#1072;&#1083;&#1077;&#1085; &#1080;&#1079; &#1074;&#1072;&#1096;&#1077;&#1081; \\\\u003Ca href\\x3d\\\\\\x22/history\\\\\\x22\\\\u003E&#1080;&#1089;&#1090;&#1086;&#1088;&#1080;&#1080; &#1074;&#1077;&#1073;-&#1087;&#1086;&#1080;&#1089;&#1082;&#1072;\\\\u003C/a\\\\u003E\\x22,\\x22psrl\\x22:\\x22&#1059;&#1076;&#1072;&#1083;&#1080;&#1090;&#1100;\\x22,\\x22sbit\\x22:\\x22&#1055;&#1086;&#1080;&#1089;&#1082; &#1087;&#1086; &#1082;&#1072;&#1088;&#1090;&#1080;&#1085;&#1082;&#1077;\\x22,\\x22srch\\x22:\\x22&#1055;&#1086;&#1080;&#1089;&#1082; &#1074; Google\\x22},\\x22ovr\\x22:{},\\x22pq\\x22:\\x22\\x22,\\x22refpd\\x22:true,\\x22rfs\\x22:[],\\x22sbpl\\x22:16,\\x22sbpr\\x22:16,\\x22scd\\x22:10,\\x22stok\\x22:\\x22w7aDPAyf0yCYOQ7rISvm13rHnPU\\x22,\\x22uhde\\x22:false}}';google.pmc=JSON.parse(pmc);})();</script>        </body></html>\n"
     ]
    }
   ],
   "source": [
    "import unicodedata\n",
    "\n",
    "# 1. Tries to download page 6 times instead of 1\n",
    "def long_request(url):\n",
    "    import requests\n",
    "    for j in range(6):\n",
    "        try:\n",
    "            p = requests.get(url)\n",
    "            break\n",
    "        except Exception as e:\n",
    "            print(e)\n",
    "    return p\n",
    "\n",
    "# 2. Checks if list has the same elements\n",
    "def Doubles(a):\n",
    "    ans = []\n",
    "    for i in range(1,len(a)):\n",
    "        if a[i] in set(a[:i]):\n",
    "            ans.append(a[i])\n",
    "    return ans\n",
    "\n",
    "# 3. Checks if a table has columns or rows with the same name.(That's a huge mistake!)\n",
    "def DRDC(table):\n",
    "    a = ['raws']\n",
    "    a.extend(Doubles(table.index))\n",
    "    a.append('columns')\n",
    "    a.extend(Doubles(table.columns))\n",
    "    return a\n",
    "\n",
    "# 4. Delete accents above players names\n",
    "def strip_accents(s):\n",
    "   return ''.join(c for c in unicodedata.normalize('NFD', s)\n",
    "                  if unicodedata.category(c) != 'Mn')\n",
    "\n",
    "# 5. strip_accents for the 1st clumn of the table\n",
    "# Need to be DataFrame,not a column constti.strip_accents_pdlist(pd.DataFrame(bigTable['web_name']))\n",
    "def strip_accents_pdlist(a):\n",
    "    b = a.copy()\n",
    "    for i in range(len(a)):\n",
    "        b.iat[i,0] = strip_accents(a.iat[i,0])\n",
    "    return b\n",
    "\n",
    "# 6. Changes name of a column col_name to new_col_name of a Table\n",
    "def change_column_name(Table, col_name, new_col_name):\n",
    "    if new_col_name in set(Table.columns):\n",
    "        print(\"Can't change column name\")\n",
    "        return Table\n",
    "    temp_Table = Table.copy()\n",
    "    temp = temp_Table.columns\n",
    "    temp = [temp[i] if temp[i] != col_name else new_col_name for i in range(len(temp))]\n",
    "    temp_Table.columns = temp\n",
    "    return temp_Table\n",
    "\n",
    "if __name__==\"__main__\":\n",
    "    print('Hello')\n",
    "    p = long_request('http://google.com')\n",
    "    print(p.text)"
   ]
  },
  {
   "cell_type": "code",
   "execution_count": 1,
   "metadata": {},
   "outputs": [],
   "source": [
    "import inputUnderstat"
   ]
  },
  {
   "cell_type": "code",
   "execution_count": null,
   "metadata": {},
   "outputs": [],
   "source": []
  }
 ],
 "metadata": {
  "kernelspec": {
   "display_name": "Python 3",
   "language": "python",
   "name": "python3"
  },
  "language_info": {
   "codemirror_mode": {
    "name": "ipython",
    "version": 3
   },
   "file_extension": ".py",
   "mimetype": "text/x-python",
   "name": "python",
   "nbconvert_exporter": "python",
   "pygments_lexer": "ipython3",
   "version": "3.7.1"
  }
 },
 "nbformat": 4,
 "nbformat_minor": 2
}
